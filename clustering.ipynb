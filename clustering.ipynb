{
 "cells": [
  {
   "cell_type": "code",
   "execution_count": 1,
   "id": "730ad51b-8983-48ca-9c62-f374e90c3f35",
   "metadata": {},
   "outputs": [
    {
     "name": "stdout",
     "output_type": "stream",
     "text": [
      "Collecting lightgbm==3.3.2 (from -r requirements.txt (line 1))\n",
      "  Using cached lightgbm-3.3.2-py3-none-manylinux1_x86_64.whl (2.0 MB)\n",
      "Collecting holidays (from -r requirements.txt (line 2))\n",
      "  Obtaining dependency information for holidays from https://files.pythonhosted.org/packages/5d/8c/bad7c11afc8969834728c0678bbf8f3ec5dba4c4ac7f5ad8cf91d63e865f/holidays-0.40-py3-none-any.whl.metadata\n",
      "  Using cached holidays-0.40-py3-none-any.whl.metadata (21 kB)\n",
      "Collecting pandas_datareader (from -r requirements.txt (line 3))\n",
      "  Using cached pandas_datareader-0.10.0-py3-none-any.whl (109 kB)\n",
      "Collecting tslearn (from -r requirements.txt (line 4))\n",
      "  Obtaining dependency information for tslearn from https://files.pythonhosted.org/packages/97/22/8dba9a7149d51fe0b6163a5a6b7efc315ab3c097cb6b0d1fc649a03f2722/tslearn-0.6.3-py3-none-any.whl.metadata\n",
      "  Using cached tslearn-0.6.3-py3-none-any.whl.metadata (14 kB)\n",
      "Collecting category_encoders (from -r requirements.txt (line 5))\n",
      "  Obtaining dependency information for category_encoders from https://files.pythonhosted.org/packages/7f/e5/79a62e5c9c9ddbfa9ff5222240d408c1eeea4e38741a0dc8343edc7ef1ec/category_encoders-2.6.3-py2.py3-none-any.whl.metadata\n",
      "  Using cached category_encoders-2.6.3-py2.py3-none-any.whl.metadata (8.0 kB)\n",
      "Collecting polars (from -r requirements.txt (line 6))\n",
      "  Obtaining dependency information for polars from https://files.pythonhosted.org/packages/00/30/528e868d296131010efbbcf8dd2465d2c3170c855a5a4f0b22c369471553/polars-0.20.4-cp38-abi3-manylinux_2_17_x86_64.manylinux2014_x86_64.whl.metadata\n",
      "  Using cached polars-0.20.4-cp38-abi3-manylinux_2_17_x86_64.manylinux2014_x86_64.whl.metadata (15 kB)\n",
      "Requirement already satisfied: wheel in /opt/conda/lib/python3.10/site-packages (from lightgbm==3.3.2->-r requirements.txt (line 1)) (0.41.2)\n",
      "Requirement already satisfied: numpy in /opt/conda/lib/python3.10/site-packages (from lightgbm==3.3.2->-r requirements.txt (line 1)) (1.23.5)\n",
      "Requirement already satisfied: scipy in /opt/conda/lib/python3.10/site-packages (from lightgbm==3.3.2->-r requirements.txt (line 1)) (1.11.2)\n",
      "Requirement already satisfied: scikit-learn!=0.22.0 in /opt/conda/lib/python3.10/site-packages (from lightgbm==3.3.2->-r requirements.txt (line 1)) (1.3.1)\n",
      "Requirement already satisfied: python-dateutil in /opt/conda/lib/python3.10/site-packages (from holidays->-r requirements.txt (line 2)) (2.8.2)\n",
      "Collecting lxml (from pandas_datareader->-r requirements.txt (line 3))\n",
      "  Obtaining dependency information for lxml from https://files.pythonhosted.org/packages/25/5c/979167df4ca5a1c308105bb1590412c54bd1b0baa1883212f39cb42d4fcd/lxml-5.1.0-cp310-cp310-manylinux_2_17_x86_64.manylinux2014_x86_64.whl.metadata\n",
      "  Using cached lxml-5.1.0-cp310-cp310-manylinux_2_17_x86_64.manylinux2014_x86_64.whl.metadata (3.5 kB)\n",
      "Requirement already satisfied: pandas>=0.23 in /opt/conda/lib/python3.10/site-packages (from pandas_datareader->-r requirements.txt (line 3)) (2.0.3)\n",
      "Requirement already satisfied: requests>=2.19.0 in /opt/conda/lib/python3.10/site-packages (from pandas_datareader->-r requirements.txt (line 3)) (2.31.0)\n",
      "Requirement already satisfied: numba in /opt/conda/lib/python3.10/site-packages (from tslearn->-r requirements.txt (line 4)) (0.58.0)\n",
      "Requirement already satisfied: joblib in /opt/conda/lib/python3.10/site-packages (from tslearn->-r requirements.txt (line 4)) (1.3.2)\n",
      "Requirement already satisfied: statsmodels>=0.9.0 in /opt/conda/lib/python3.10/site-packages (from category_encoders->-r requirements.txt (line 5)) (0.14.0)\n",
      "Requirement already satisfied: patsy>=0.5.1 in /opt/conda/lib/python3.10/site-packages (from category_encoders->-r requirements.txt (line 5)) (0.5.3)\n",
      "Requirement already satisfied: pytz>=2020.1 in /opt/conda/lib/python3.10/site-packages (from pandas>=0.23->pandas_datareader->-r requirements.txt (line 3)) (2023.3.post1)\n",
      "Requirement already satisfied: tzdata>=2022.1 in /opt/conda/lib/python3.10/site-packages (from pandas>=0.23->pandas_datareader->-r requirements.txt (line 3)) (2023.3)\n",
      "Requirement already satisfied: six in /opt/conda/lib/python3.10/site-packages (from patsy>=0.5.1->category_encoders->-r requirements.txt (line 5)) (1.16.0)\n",
      "Requirement already satisfied: charset-normalizer<4,>=2 in /opt/conda/lib/python3.10/site-packages (from requests>=2.19.0->pandas_datareader->-r requirements.txt (line 3)) (3.2.0)\n",
      "Requirement already satisfied: idna<4,>=2.5 in /opt/conda/lib/python3.10/site-packages (from requests>=2.19.0->pandas_datareader->-r requirements.txt (line 3)) (3.4)\n",
      "Requirement already satisfied: urllib3<3,>=1.21.1 in /opt/conda/lib/python3.10/site-packages (from requests>=2.19.0->pandas_datareader->-r requirements.txt (line 3)) (1.26.16)\n",
      "Requirement already satisfied: certifi>=2017.4.17 in /opt/conda/lib/python3.10/site-packages (from requests>=2.19.0->pandas_datareader->-r requirements.txt (line 3)) (2023.7.22)\n",
      "Requirement already satisfied: threadpoolctl>=2.0.0 in /opt/conda/lib/python3.10/site-packages (from scikit-learn!=0.22.0->lightgbm==3.3.2->-r requirements.txt (line 1)) (3.2.0)\n",
      "Requirement already satisfied: packaging>=21.3 in /opt/conda/lib/python3.10/site-packages (from statsmodels>=0.9.0->category_encoders->-r requirements.txt (line 5)) (23.1)\n",
      "Requirement already satisfied: llvmlite<0.42,>=0.41.0dev0 in /opt/conda/lib/python3.10/site-packages (from numba->tslearn->-r requirements.txt (line 4)) (0.41.0)\n",
      "Using cached holidays-0.40-py3-none-any.whl (889 kB)\n",
      "Using cached tslearn-0.6.3-py3-none-any.whl (374 kB)\n",
      "Using cached category_encoders-2.6.3-py2.py3-none-any.whl (81 kB)\n",
      "Using cached polars-0.20.4-cp38-abi3-manylinux_2_17_x86_64.manylinux2014_x86_64.whl (28.6 MB)\n",
      "Using cached lxml-5.1.0-cp310-cp310-manylinux_2_17_x86_64.manylinux2014_x86_64.whl (8.0 MB)\n",
      "Installing collected packages: polars, lxml, holidays, tslearn, pandas_datareader, lightgbm, category_encoders\n",
      "Successfully installed category_encoders-2.6.3 holidays-0.40 lightgbm-3.3.2 lxml-5.1.0 pandas_datareader-0.10.0 polars-0.20.4 tslearn-0.6.3\n"
     ]
    },
    {
     "name": "stderr",
     "output_type": "stream",
     "text": [
      "/opt/conda/lib/python3.10/site-packages/tslearn/bases/bases.py:15: UserWarning: h5py not installed, hdf5 features will not be supported.\n",
      "Install h5py to use hdf5 features: http://docs.h5py.org/\n",
      "  warn(h5py_msg)\n"
     ]
    }
   ],
   "source": [
    "!pip install -r requirements.txt\n",
    "import pandas as pd\n",
    "import numpy as np\n",
    "import polars as pl\n",
    "from datetime import datetime\n",
    "import holidays\n",
    "import time\n",
    "\n",
    "import matplotlib.pyplot as plt\n",
    "import seaborn as sns\n",
    "\n",
    "from sklearn.model_selection import train_test_split, KFold, StratifiedKFold\n",
    "from sklearn.metrics import mean_squared_error, f1_score, silhouette_score, calinski_harabasz_score, davies_bouldin_score\n",
    "from sklearn.preprocessing import StandardScaler, OneHotEncoder, LabelEncoder\n",
    "from sklearn.cluster import KMeans\n",
    "import category_encoders as ce\n",
    "\n",
    "import lightgbm as lgb\n",
    "from tslearn.clustering import TimeSeriesKMeans, KShape\n",
    "from tslearn.preprocessing import TimeSeriesScalerMeanVariance\n",
    "from tslearn.metrics import cdist_dtw\n",
    "from tslearn.barycenters import dtw_barycenter_averaging\n",
    "\n",
    "import warnings\n",
    "import requests\n",
    "import os\n",
    "import tqdm\n",
    "from scipy.spatial import distance, KDTree\n",
    "\n",
    "from google.cloud import bigquery\n",
    "from google.oauth2 import service_account\n",
    "\n",
    "warnings.simplefilter('ignore')"
   ]
  },
  {
   "cell_type": "raw",
   "id": "94e81129-1c41-43f3-927e-de712e7b6c2d",
   "metadata": {},
   "source": [
    "bq_client = bigquery.Client()\n",
    "\n",
    "query = 'SELECT * FROM iret-risp.forcast_compe_dataset.cur_train_20231127'\n",
    "train = bq_client.query(query).to_dataframe()\n",
    "\n",
    "\n",
    "query_ = 'SELECT * FROM iret-risp.forcast_compe_dataset.cur_test_20231127'\n",
    "test = bq_client.query(query_).to_dataframe()\n",
    "\n",
    "query = 'SELECT * FROM iret-risp.forcast_compe_dataset.forcast_target_instance_list'\n",
    "target = bq_client.query(query).to_dataframe()\n",
    "\n",
    "query = 'SELECT * FROM iret-risp.forcast_compe_dataset.cur_ans_20231127'\n",
    "ans = bq_client.query(query).to_dataframe()"
   ]
  },
  {
   "cell_type": "raw",
   "id": "c88e6cb4-c110-46c3-b216-ae45f047b084",
   "metadata": {},
   "source": [
    "result = train.merge(target, left_on=['customer', 'product_region', 'product_operatingSystem','product_instanceType'], right_on=['customer', 'product_region', 'product_operatingSystem','product_instanceType'])\n",
    "result.drop(['product_ProductName','mean_used_num'],axis=1,inplace=True)\n",
    "df_includeID = result.copy()\n",
    "df_includeID"
   ]
  },
  {
   "cell_type": "code",
   "execution_count": 2,
   "id": "afea3f98-3f01-405e-9269-7e6d924e9f07",
   "metadata": {},
   "outputs": [],
   "source": [
    "df = pd.read_csv(\"df_includeID.csv\")\n",
    "df.drop('Unnamed: 0',axis=1,inplace=True)"
   ]
  },
  {
   "cell_type": "code",
   "execution_count": 3,
   "id": "40b13788-5bdf-4a2c-b2b0-4dffa2ec2595",
   "metadata": {},
   "outputs": [],
   "source": [
    "df['date'] = pd.to_datetime(df['date'])\n",
    "df['year'] = df['date'].dt.year\n",
    "df['month'] = df['date'].dt.month\n",
    "df['date'] = df['date'].dt.day"
   ]
  },
  {
   "cell_type": "code",
   "execution_count": 4,
   "id": "b2085122-f51d-4f58-aea7-8a56cedafc4d",
   "metadata": {},
   "outputs": [],
   "source": [
    "def createId(data):\n",
    "    data['AccountID'] = data.groupby(['customer', 'lineItem_UsageAccountId', 'product_region', 'product_operatingSystem', 'product_instanceType']).ngroup()+1\n",
    "    data['InstanceID'] = data.groupby(['customer','product_region', 'product_operatingSystem', 'product_instanceType']).ngroup()+1\n",
    "    return data"
   ]
  },
  {
   "cell_type": "code",
   "execution_count": 5,
   "id": "9bf3b8ff-fd41-4d37-adef-4285326a54d3",
   "metadata": {},
   "outputs": [],
   "source": [
    "df = createId(df)"
   ]
  },
  {
   "cell_type": "code",
   "execution_count": 6,
   "id": "f6410022-5c0a-4191-98f8-c7fd227646cf",
   "metadata": {},
   "outputs": [],
   "source": [
    "grouped_df = df.groupby(['year', 'month', 'date', 'InstanceID'])['sum_num_machine'].sum().reset_index(name='total_sum_num_machine')\n",
    "\n",
    "df = pd.merge(df, grouped_df, on=['year', 'month', 'date', 'InstanceID'], how='left')\n",
    "df.drop('sum_num_machine',axis=1,inplace=True)\n",
    "df.drop_duplicates(inplace=True)"
   ]
  },
  {
   "cell_type": "code",
   "execution_count": 7,
   "id": "f333c6b4-1593-4e71-96cd-a4f8978c9bec",
   "metadata": {},
   "outputs": [],
   "source": [
    "import pandas as pd\n",
    "from sklearn.cluster import KMeans\n",
    "from sklearn.preprocessing import StandardScaler\n",
    "from sklearn import preprocessing\n",
    "\n",
    "def byinstanceId(df,n):\n",
    "    start_time = time.time()\n",
    "    grouped_df = df.groupby(['year', 'month', 'date', 'InstanceID'])['total_sum_num_machine'].sum().reset_index()\n",
    "\n",
    "    X = grouped_df[['total_sum_num_machine']]\n",
    "\n",
    "    min_max_scaler = preprocessing.MinMaxScaler()\n",
    "    X_scaled = min_max_scaler.fit_transform(X)\n",
    "\n",
    "    kmeans = KMeans(n_clusters=n) \n",
    "    grouped_df['byinstanceId_cluster'] = kmeans.fit_predict(X_scaled)\n",
    "\n",
    "    df = pd.merge(df, grouped_df[['year', 'month', 'date', 'InstanceID', 'byinstanceId_cluster']], \n",
    "                         on=['year', 'month', 'date', 'InstanceID'], \n",
    "                         how='left')\n",
    "    print('クラスタリング完了しました')\n",
    "    end_time = time.time()\n",
    "    print(f'経過時間 : {end_time-start_time}')\n",
    "    return df"
   ]
  },
  {
   "cell_type": "code",
   "execution_count": 8,
   "id": "96f22d9f-618c-4299-a25e-7ee7966c013a",
   "metadata": {},
   "outputs": [],
   "source": [
    "def byAccountId(df,n):\n",
    "    start_time = time.time()\n",
    "    grouped_df = df.groupby(['year', 'month', 'date', 'AccountID'])['total_sum_num_machine'].sum().reset_index()\n",
    "\n",
    "    X = grouped_df[['total_sum_num_machine']]\n",
    "\n",
    "    min_max_scaler = preprocessing.MinMaxScaler()\n",
    "    X_scaled = min_max_scaler.fit_transform(X)\n",
    "\n",
    "    kmeans = KMeans(n_clusters=n) \n",
    "    grouped_df['byAccountID_cluster'] = kmeans.fit_predict(X_scaled)\n",
    "\n",
    "    df = pd.merge(df, grouped_df[['year', 'month', 'date', 'AccountID', 'byAccountID_cluster']], \n",
    "                         on=['year', 'month', 'date', 'AccountID'], \n",
    "                         how='left')\n",
    "    print('クラスタリング完了しました')\n",
    "    end_time = time.time()\n",
    "    print(f'経過時間 : {end_time-start_time}')\n",
    "    return df"
   ]
  },
  {
   "cell_type": "code",
   "execution_count": 9,
   "id": "5d46dc03-7b4d-4729-a43b-281465f58517",
   "metadata": {},
   "outputs": [
    {
     "name": "stdout",
     "output_type": "stream",
     "text": [
      "クラスタリング完了しました\n",
      "経過時間 : 5.850495100021362\n",
      "クラスタリング完了しました\n",
      "経過時間 : 1.7223103046417236\n"
     ]
    }
   ],
   "source": [
    "df = byAccountId(df,3)\n",
    "df = byinstanceId(df,3)"
   ]
  },
  {
   "cell_type": "code",
   "execution_count": 10,
   "id": "59edec51-5ec1-4eb8-809f-bc09b8a60e6f",
   "metadata": {},
   "outputs": [],
   "source": [
    "import time\n",
    "import pandas as pd\n",
    "from tslearn.clustering import TimeSeriesKMeans\n",
    "from tslearn.utils import to_time_series_dataset\n",
    "\n",
    "def byAccountId(df, n):\n",
    "    start_time = time.time()\n",
    "\n",
    "    time_series = []\n",
    "    valid_account_ids = []\n",
    "    for account_id, group in df.groupby('AccountID'):\n",
    "        ts = group.sort_values(by=['year', 'month', 'date'])['total_sum_num_machine'].values\n",
    "        if len(ts) > 1:\n",
    "            time_series.append(ts)\n",
    "            valid_account_ids.append(account_id)\n",
    "\n",
    "    formatted_dataset = to_time_series_dataset(time_series)\n",
    "\n",
    "    model = TimeSeriesKMeans(n_clusters=n, metric=\"dtw\", verbose=True, max_iter_barycenter=5,n_jobs=-1)\n",
    "    clusters = model.fit_predict(formatted_dataset)\n",
    "\n",
    "    cluster_map = {account_id: cluster for account_id, cluster in zip(valid_account_ids, clusters)}\n",
    "\n",
    "    df['byAccountID_cluster'] = df['AccountID'].map(cluster_map)\n",
    "\n",
    "    print('クラスタリング完了しました')\n",
    "    end_time = time.time()\n",
    "    print(f'経過時間 : {end_time - start_time}')\n",
    "    return df"
   ]
  },
  {
   "cell_type": "code",
   "execution_count": 11,
   "id": "a24d4294-b0c9-4591-a2c6-3d0bfef26d8c",
   "metadata": {},
   "outputs": [
    {
     "name": "stderr",
     "output_type": "stream",
     "text": [
      "[Parallel(n_jobs=-1)]: Using backend ThreadingBackend with 8 concurrent workers.\n",
      "[Parallel(n_jobs=-1)]: Done  34 tasks      | elapsed:    4.9s\n",
      "[Parallel(n_jobs=-1)]: Done 184 tasks      | elapsed:    5.7s\n",
      "[Parallel(n_jobs=-1)]: Done 434 tasks      | elapsed:    7.0s\n",
      "[Parallel(n_jobs=-1)]: Done 784 tasks      | elapsed:    8.7s\n",
      "[Parallel(n_jobs=-1)]: Done 1234 tasks      | elapsed:   10.9s\n",
      "[Parallel(n_jobs=-1)]: Done 1784 tasks      | elapsed:   13.8s\n",
      "[Parallel(n_jobs=-1)]: Done 2434 tasks      | elapsed:   17.2s\n",
      "[Parallel(n_jobs=-1)]: Done 3184 tasks      | elapsed:   21.1s\n",
      "[Parallel(n_jobs=-1)]: Done 4034 tasks      | elapsed:   25.3s\n",
      "[Parallel(n_jobs=-1)]: Done 4379 out of 4379 | elapsed:   27.1s finished\n",
      "[Parallel(n_jobs=-1)]: Using backend ThreadingBackend with 8 concurrent workers.\n",
      "[Parallel(n_jobs=-1)]: Done  34 tasks      | elapsed:    0.2s\n",
      "[Parallel(n_jobs=-1)]: Done 184 tasks      | elapsed:    1.1s\n",
      "[Parallel(n_jobs=-1)]: Done 434 tasks      | elapsed:    2.4s\n",
      "[Parallel(n_jobs=-1)]: Done 784 tasks      | elapsed:    4.2s\n",
      "[Parallel(n_jobs=-1)]: Done 1234 tasks      | elapsed:    6.6s\n",
      "[Parallel(n_jobs=-1)]: Done 1784 tasks      | elapsed:    9.8s\n",
      "[Parallel(n_jobs=-1)]: Done 2434 tasks      | elapsed:   13.8s\n",
      "[Parallel(n_jobs=-1)]: Done 3184 tasks      | elapsed:   18.1s\n",
      "[Parallel(n_jobs=-1)]: Done 4034 tasks      | elapsed:   22.6s\n",
      "[Parallel(n_jobs=-1)]: Done 4984 tasks      | elapsed:   29.3s\n",
      "[Parallel(n_jobs=-1)]: Done 6034 tasks      | elapsed:   38.0s\n",
      "[Parallel(n_jobs=-1)]: Done 7184 tasks      | elapsed:   47.7s\n",
      "[Parallel(n_jobs=-1)]: Done 8434 tasks      | elapsed:   58.0s\n",
      "[Parallel(n_jobs=-1)]: Done 9784 tasks      | elapsed:  1.2min\n",
      "[Parallel(n_jobs=-1)]: Done 11234 tasks      | elapsed:  1.4min\n",
      "[Parallel(n_jobs=-1)]: Done 12784 tasks      | elapsed:  1.6min\n",
      "[Parallel(n_jobs=-1)]: Done 13137 out of 13137 | elapsed:  1.7min finished\n",
      "[Parallel(n_jobs=-1)]: Using backend ThreadingBackend with 8 concurrent workers.\n",
      "[Parallel(n_jobs=-1)]: Done  34 tasks      | elapsed:    0.2s\n",
      "[Parallel(n_jobs=-1)]: Done 184 tasks      | elapsed:    1.0s\n",
      "[Parallel(n_jobs=-1)]: Done 434 tasks      | elapsed:    2.3s\n",
      "[Parallel(n_jobs=-1)]: Done 784 tasks      | elapsed:    4.1s\n",
      "[Parallel(n_jobs=-1)]: Done 1234 tasks      | elapsed:    6.5s\n",
      "[Parallel(n_jobs=-1)]: Done 1784 tasks      | elapsed:    9.6s\n",
      "[Parallel(n_jobs=-1)]: Done 2434 tasks      | elapsed:   13.0s\n",
      "[Parallel(n_jobs=-1)]: Done 3184 tasks      | elapsed:   17.4s\n",
      "[Parallel(n_jobs=-1)]: Done 4034 tasks      | elapsed:   21.9s\n",
      "[Parallel(n_jobs=-1)]: Done 4984 tasks      | elapsed:   30.1s\n",
      "[Parallel(n_jobs=-1)]: Done 6034 tasks      | elapsed:   41.4s\n",
      "[Parallel(n_jobs=-1)]: Done 7184 tasks      | elapsed:   53.8s\n",
      "[Parallel(n_jobs=-1)]: Done 8434 tasks      | elapsed:  1.1min\n",
      "[Parallel(n_jobs=-1)]: Done 9784 tasks      | elapsed:  1.3min\n",
      "[Parallel(n_jobs=-1)]: Done 11234 tasks      | elapsed:  1.4min\n",
      "[Parallel(n_jobs=-1)]: Done 12784 tasks      | elapsed:  1.5min\n",
      "[Parallel(n_jobs=-1)]: Done 13137 out of 13137 | elapsed:  1.6min finished\n",
      "[Parallel(n_jobs=-1)]: Using backend ThreadingBackend with 8 concurrent workers.\n",
      "[Parallel(n_jobs=-1)]: Done  34 tasks      | elapsed:    0.1s\n",
      "[Parallel(n_jobs=-1)]: Done 184 tasks      | elapsed:    0.9s\n",
      "[Parallel(n_jobs=-1)]: Done 434 tasks      | elapsed:    2.4s\n",
      "[Parallel(n_jobs=-1)]: Done 784 tasks      | elapsed:    4.3s\n",
      "[Parallel(n_jobs=-1)]: Done 1234 tasks      | elapsed:    6.9s\n",
      "[Parallel(n_jobs=-1)]: Done 1784 tasks      | elapsed:    9.8s\n",
      "[Parallel(n_jobs=-1)]: Done 2434 tasks      | elapsed:   13.3s\n",
      "[Parallel(n_jobs=-1)]: Done 3184 tasks      | elapsed:   17.5s\n",
      "[Parallel(n_jobs=-1)]: Done 4034 tasks      | elapsed:   21.8s\n",
      "[Parallel(n_jobs=-1)]: Done 4984 tasks      | elapsed:   27.4s\n",
      "[Parallel(n_jobs=-1)]: Done 6034 tasks      | elapsed:   33.2s\n",
      "[Parallel(n_jobs=-1)]: Done 7184 tasks      | elapsed:   39.6s\n",
      "[Parallel(n_jobs=-1)]: Done 8434 tasks      | elapsed:   46.6s\n",
      "[Parallel(n_jobs=-1)]: Done 9784 tasks      | elapsed:   54.2s\n",
      "[Parallel(n_jobs=-1)]: Done 11234 tasks      | elapsed:  1.0min\n",
      "[Parallel(n_jobs=-1)]: Done 12784 tasks      | elapsed:  1.2min\n",
      "[Parallel(n_jobs=-1)]: Done 13137 out of 13137 | elapsed:  1.2min finished\n"
     ]
    },
    {
     "name": "stdout",
     "output_type": "stream",
     "text": [
      "100405414.782 --> "
     ]
    },
    {
     "name": "stderr",
     "output_type": "stream",
     "text": [
      "[Parallel(n_jobs=-1)]: Using backend ThreadingBackend with 8 concurrent workers.\n",
      "[Parallel(n_jobs=-1)]: Done  34 tasks      | elapsed:    0.1s\n",
      "[Parallel(n_jobs=-1)]: Done 184 tasks      | elapsed:    0.9s\n",
      "[Parallel(n_jobs=-1)]: Done 434 tasks      | elapsed:    2.4s\n",
      "[Parallel(n_jobs=-1)]: Done 784 tasks      | elapsed:    4.1s\n",
      "[Parallel(n_jobs=-1)]: Done 1234 tasks      | elapsed:    6.6s\n",
      "[Parallel(n_jobs=-1)]: Done 1784 tasks      | elapsed:    9.2s\n",
      "[Parallel(n_jobs=-1)]: Done 2434 tasks      | elapsed:   12.7s\n",
      "[Parallel(n_jobs=-1)]: Done 3184 tasks      | elapsed:   16.7s\n",
      "[Parallel(n_jobs=-1)]: Done 4034 tasks      | elapsed:   21.0s\n",
      "[Parallel(n_jobs=-1)]: Done 4984 tasks      | elapsed:   26.7s\n",
      "[Parallel(n_jobs=-1)]: Done 6034 tasks      | elapsed:   32.4s\n",
      "[Parallel(n_jobs=-1)]: Done 7184 tasks      | elapsed:   38.9s\n",
      "[Parallel(n_jobs=-1)]: Done 8434 tasks      | elapsed:   45.9s\n",
      "[Parallel(n_jobs=-1)]: Done 9784 tasks      | elapsed:   53.4s\n",
      "[Parallel(n_jobs=-1)]: Done 11234 tasks      | elapsed:  1.0min\n",
      "[Parallel(n_jobs=-1)]: Done 12784 tasks      | elapsed:  1.2min\n",
      "[Parallel(n_jobs=-1)]: Done 13137 out of 13137 | elapsed:  1.2min finished\n"
     ]
    },
    {
     "name": "stdout",
     "output_type": "stream",
     "text": [
      "26589296.930 --> "
     ]
    },
    {
     "name": "stderr",
     "output_type": "stream",
     "text": [
      "[Parallel(n_jobs=-1)]: Using backend ThreadingBackend with 8 concurrent workers.\n",
      "[Parallel(n_jobs=-1)]: Done  34 tasks      | elapsed:    0.2s\n",
      "[Parallel(n_jobs=-1)]: Done 184 tasks      | elapsed:    0.8s\n",
      "[Parallel(n_jobs=-1)]: Done 434 tasks      | elapsed:    2.4s\n",
      "[Parallel(n_jobs=-1)]: Done 784 tasks      | elapsed:    4.0s\n",
      "[Parallel(n_jobs=-1)]: Done 1234 tasks      | elapsed:    6.5s\n",
      "[Parallel(n_jobs=-1)]: Done 1784 tasks      | elapsed:    9.2s\n",
      "[Parallel(n_jobs=-1)]: Done 2434 tasks      | elapsed:   12.9s\n",
      "[Parallel(n_jobs=-1)]: Done 3184 tasks      | elapsed:   17.0s\n",
      "[Parallel(n_jobs=-1)]: Done 4034 tasks      | elapsed:   21.3s\n",
      "[Parallel(n_jobs=-1)]: Done 4984 tasks      | elapsed:   26.8s\n",
      "[Parallel(n_jobs=-1)]: Done 6034 tasks      | elapsed:   32.4s\n",
      "[Parallel(n_jobs=-1)]: Done 7184 tasks      | elapsed:   38.6s\n",
      "[Parallel(n_jobs=-1)]: Done 8434 tasks      | elapsed:   45.4s\n",
      "[Parallel(n_jobs=-1)]: Done 9784 tasks      | elapsed:   52.9s\n",
      "[Parallel(n_jobs=-1)]: Done 11234 tasks      | elapsed:  1.0min\n",
      "[Parallel(n_jobs=-1)]: Done 12784 tasks      | elapsed:  1.1min\n",
      "[Parallel(n_jobs=-1)]: Done 13137 out of 13137 | elapsed:  1.2min finished\n"
     ]
    },
    {
     "name": "stdout",
     "output_type": "stream",
     "text": [
      "26174643.661 --> "
     ]
    },
    {
     "name": "stderr",
     "output_type": "stream",
     "text": [
      "[Parallel(n_jobs=-1)]: Using backend ThreadingBackend with 8 concurrent workers.\n",
      "[Parallel(n_jobs=-1)]: Done  34 tasks      | elapsed:    0.1s\n",
      "[Parallel(n_jobs=-1)]: Done 184 tasks      | elapsed:    0.9s\n",
      "[Parallel(n_jobs=-1)]: Done 434 tasks      | elapsed:    2.4s\n",
      "[Parallel(n_jobs=-1)]: Done 784 tasks      | elapsed:    4.1s\n",
      "[Parallel(n_jobs=-1)]: Done 1234 tasks      | elapsed:    6.5s\n",
      "[Parallel(n_jobs=-1)]: Done 1784 tasks      | elapsed:    9.2s\n",
      "[Parallel(n_jobs=-1)]: Done 2434 tasks      | elapsed:   12.8s\n",
      "[Parallel(n_jobs=-1)]: Done 3184 tasks      | elapsed:   16.9s\n",
      "[Parallel(n_jobs=-1)]: Done 4034 tasks      | elapsed:   21.2s\n",
      "[Parallel(n_jobs=-1)]: Done 4984 tasks      | elapsed:   26.6s\n",
      "[Parallel(n_jobs=-1)]: Done 6034 tasks      | elapsed:   32.4s\n",
      "[Parallel(n_jobs=-1)]: Done 7184 tasks      | elapsed:   38.7s\n",
      "[Parallel(n_jobs=-1)]: Done 8434 tasks      | elapsed:   45.8s\n",
      "[Parallel(n_jobs=-1)]: Done 9784 tasks      | elapsed:   53.5s\n",
      "[Parallel(n_jobs=-1)]: Done 11234 tasks      | elapsed:  1.0min\n",
      "[Parallel(n_jobs=-1)]: Done 12784 tasks      | elapsed:  1.2min\n",
      "[Parallel(n_jobs=-1)]: Done 13137 out of 13137 | elapsed:  1.2min finished\n"
     ]
    },
    {
     "name": "stdout",
     "output_type": "stream",
     "text": [
      "26171185.004 --> "
     ]
    },
    {
     "name": "stderr",
     "output_type": "stream",
     "text": [
      "[Parallel(n_jobs=-1)]: Using backend ThreadingBackend with 8 concurrent workers.\n",
      "[Parallel(n_jobs=-1)]: Done  34 tasks      | elapsed:    0.1s\n",
      "[Parallel(n_jobs=-1)]: Done 184 tasks      | elapsed:    0.9s\n",
      "[Parallel(n_jobs=-1)]: Done 434 tasks      | elapsed:    2.4s\n",
      "[Parallel(n_jobs=-1)]: Done 784 tasks      | elapsed:    4.1s\n",
      "[Parallel(n_jobs=-1)]: Done 1234 tasks      | elapsed:    6.7s\n",
      "[Parallel(n_jobs=-1)]: Done 1784 tasks      | elapsed:    9.5s\n",
      "[Parallel(n_jobs=-1)]: Done 2434 tasks      | elapsed:   13.1s\n",
      "[Parallel(n_jobs=-1)]: Done 3184 tasks      | elapsed:   17.1s\n",
      "[Parallel(n_jobs=-1)]: Done 4034 tasks      | elapsed:   21.5s\n",
      "[Parallel(n_jobs=-1)]: Done 4984 tasks      | elapsed:   27.1s\n",
      "[Parallel(n_jobs=-1)]: Done 6034 tasks      | elapsed:   32.8s\n",
      "[Parallel(n_jobs=-1)]: Done 7184 tasks      | elapsed:   39.2s\n",
      "[Parallel(n_jobs=-1)]: Done 8434 tasks      | elapsed:   46.2s\n",
      "[Parallel(n_jobs=-1)]: Done 9784 tasks      | elapsed:   53.9s\n",
      "[Parallel(n_jobs=-1)]: Done 11234 tasks      | elapsed:  1.0min\n",
      "[Parallel(n_jobs=-1)]: Done 12784 tasks      | elapsed:  1.2min\n",
      "[Parallel(n_jobs=-1)]: Done 13137 out of 13137 | elapsed:  1.2min finished\n"
     ]
    },
    {
     "name": "stdout",
     "output_type": "stream",
     "text": [
      "26171179.853 --> "
     ]
    },
    {
     "name": "stderr",
     "output_type": "stream",
     "text": [
      "[Parallel(n_jobs=-1)]: Using backend ThreadingBackend with 8 concurrent workers.\n",
      "[Parallel(n_jobs=-1)]: Done  34 tasks      | elapsed:    0.1s\n",
      "[Parallel(n_jobs=-1)]: Done 184 tasks      | elapsed:    0.9s\n",
      "[Parallel(n_jobs=-1)]: Done 434 tasks      | elapsed:    2.4s\n",
      "[Parallel(n_jobs=-1)]: Done 784 tasks      | elapsed:    4.1s\n",
      "[Parallel(n_jobs=-1)]: Done 1234 tasks      | elapsed:    6.6s\n",
      "[Parallel(n_jobs=-1)]: Done 1784 tasks      | elapsed:    9.4s\n",
      "[Parallel(n_jobs=-1)]: Done 2434 tasks      | elapsed:   12.9s\n",
      "[Parallel(n_jobs=-1)]: Done 3184 tasks      | elapsed:   16.9s\n",
      "[Parallel(n_jobs=-1)]: Done 4034 tasks      | elapsed:   21.2s\n",
      "[Parallel(n_jobs=-1)]: Done 4984 tasks      | elapsed:   26.6s\n",
      "[Parallel(n_jobs=-1)]: Done 6034 tasks      | elapsed:   32.3s\n",
      "[Parallel(n_jobs=-1)]: Done 7184 tasks      | elapsed:   38.6s\n",
      "[Parallel(n_jobs=-1)]: Done 8434 tasks      | elapsed:   45.5s\n",
      "[Parallel(n_jobs=-1)]: Done 9784 tasks      | elapsed:   53.1s\n",
      "[Parallel(n_jobs=-1)]: Done 11234 tasks      | elapsed:  1.0min\n",
      "[Parallel(n_jobs=-1)]: Done 12784 tasks      | elapsed:  1.2min\n",
      "[Parallel(n_jobs=-1)]: Done 13137 out of 13137 | elapsed:  1.2min finished\n"
     ]
    },
    {
     "name": "stdout",
     "output_type": "stream",
     "text": [
      "26171179.853 --> \n"
     ]
    },
    {
     "name": "stderr",
     "output_type": "stream",
     "text": [
      "[Parallel(n_jobs=-1)]: Using backend ThreadingBackend with 8 concurrent workers.\n",
      "[Parallel(n_jobs=-1)]: Done  34 tasks      | elapsed:    0.2s\n",
      "[Parallel(n_jobs=-1)]: Done 184 tasks      | elapsed:    0.8s\n",
      "[Parallel(n_jobs=-1)]: Done 434 tasks      | elapsed:    2.3s\n",
      "[Parallel(n_jobs=-1)]: Done 784 tasks      | elapsed:    4.0s\n",
      "[Parallel(n_jobs=-1)]: Done 1234 tasks      | elapsed:    6.5s\n",
      "[Parallel(n_jobs=-1)]: Done 1784 tasks      | elapsed:    9.3s\n",
      "[Parallel(n_jobs=-1)]: Done 2434 tasks      | elapsed:   12.7s\n",
      "[Parallel(n_jobs=-1)]: Done 3184 tasks      | elapsed:   16.7s\n",
      "[Parallel(n_jobs=-1)]: Done 4034 tasks      | elapsed:   21.1s\n",
      "[Parallel(n_jobs=-1)]: Done 4984 tasks      | elapsed:   26.6s\n",
      "[Parallel(n_jobs=-1)]: Done 6034 tasks      | elapsed:   32.4s\n",
      "[Parallel(n_jobs=-1)]: Done 7184 tasks      | elapsed:   38.7s\n",
      "[Parallel(n_jobs=-1)]: Done 8434 tasks      | elapsed:   45.5s\n",
      "[Parallel(n_jobs=-1)]: Done 9784 tasks      | elapsed:   53.1s\n",
      "[Parallel(n_jobs=-1)]: Done 11234 tasks      | elapsed:  1.0min\n",
      "[Parallel(n_jobs=-1)]: Done 12784 tasks      | elapsed:  1.1min\n",
      "[Parallel(n_jobs=-1)]: Done 13137 out of 13137 | elapsed:  1.2min finished\n"
     ]
    },
    {
     "name": "stdout",
     "output_type": "stream",
     "text": [
      "クラスタリング完了しました\n",
      "経過時間 : 7280.313184499741\n"
     ]
    }
   ],
   "source": [
    "df = byAccountId(df, 3)"
   ]
  }
 ],
 "metadata": {
  "kernelspec": {
   "display_name": "Python (Local)",
   "language": "python",
   "name": "local-base"
  },
  "language_info": {
   "codemirror_mode": {
    "name": "ipython",
    "version": 3
   },
   "file_extension": ".py",
   "mimetype": "text/x-python",
   "name": "python",
   "nbconvert_exporter": "python",
   "pygments_lexer": "ipython3",
   "version": "3.10.12"
  }
 },
 "nbformat": 4,
 "nbformat_minor": 5
}
